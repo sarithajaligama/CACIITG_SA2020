{
 "cells": [
  {
   "cell_type": "markdown",
   "metadata": {},
   "source": [
    "# Capstone Project Summer Analytics 2020\n",
    "===============================================================  "
   ]
  },
  {
   "cell_type": "markdown",
   "metadata": {},
   "source": [
    "### Recall: Stage 01: Observation of Data"
   ]
  },
  {
   "cell_type": "code",
   "execution_count": 1,
   "metadata": {},
   "outputs": [],
   "source": [
    "# %%%%%%%%%%%%%%%%%%%%%%%%%%%%%%%%%%%%%%%%%%%%%%%%%%%% RUN %%%%%%%%%%%%%%%%%%%%%%%%%%%%%%%%%%%%%%%%%%%%%%%%%%%%\n",
    "# 1.1) Importing Libraries\n",
    "# ==========================\n",
    "import numpy as np\n",
    "import pandas as pd\n",
    "import time\n",
    "import matplotlib.pyplot as plt\n",
    "import seaborn as sns\n",
    "%matplotlib inline\n",
    "\n",
    "import sklearn \n",
    "import matplotlib.pyplot as plt\n",
    "import warnings\n",
    "warnings.filterwarnings('ignore')\n",
    "\n",
    "# Preprocessing\n",
    "from sklearn.preprocessing import MinMaxScaler, StandardScaler, LabelEncoder, OneHotEncoder\n",
    "# from sklearn.preprocessing import Imputer\n",
    "# from imblearn.over_sampling import SMOTE\n",
    "from sklearn.decomposition import PCA\n",
    "from scipy.stats import randint\n",
    "from IPython.display import Image\n",
    "from sklearn.model_selection import train_test_split\n",
    "\n",
    "# 1.2) Loading Training set data\n",
    "# ================================\n",
    "df_train = pd.read_csv('train.csv')"
   ]
  },
  {
   "cell_type": "markdown",
   "metadata": {},
   "source": [
    "##### Dropping all these 4 columns"
   ]
  },
  {
   "cell_type": "code",
   "execution_count": 2,
   "metadata": {},
   "outputs": [],
   "source": [
    "# %%%%%%%%%%%%%%%%%%%%%%%%%%%%%%%%%%%%%%%%%%%%%%%%%%%% RUN %%%%%%%%%%%%%%%%%%%%%%%%%%%%%%%%%%%%%%%%%%%%%%%%%%%%\n",
    "\n",
    "# Droping 'Id', 'Behaviour', 'EmployeeNumber' and 'PerformanceRating' columns\n",
    "df_train.drop(['Id', 'Behaviour', 'EmployeeNumber', 'PerformanceRating'], axis=1, inplace=True)"
   ]
  },
  {
   "cell_type": "markdown",
   "metadata": {},
   "source": [
    "##### Importing Libraries"
   ]
  },
  {
   "cell_type": "code",
   "execution_count": 3,
   "metadata": {},
   "outputs": [],
   "source": [
    "# %%%%%%%%%%%%%%%%%%%%%%%%%%%%%%%%%%%%%%%%%%%%%%%%%%%% RUN %%%%%%%%%%%%%%%%%%%%%%%%%%%%%%%%%%%%%%%%%%%%%%%%%%%%\n",
    "\n",
    "# Preprocessing\n",
    "from sklearn.preprocessing import MinMaxScaler, StandardScaler, LabelEncoder, OneHotEncoder\n",
    "# from sklearn.preprocessing import Imputer\n",
    "# from imblearn.over_sampling import SMOTE\n",
    "from sklearn.decomposition import PCA\n",
    "from scipy.stats import randint\n",
    "from IPython.display import Image\n",
    "from sklearn.model_selection import train_test_split"
   ]
  },
  {
   "cell_type": "markdown",
   "metadata": {},
   "source": [
    "##### 5.1.2) Lable Encoder\n",
    "Transform non-numeric columns to numerical columns"
   ]
  },
  {
   "cell_type": "code",
   "execution_count": 4,
   "metadata": {},
   "outputs": [],
   "source": [
    "# %%%%%%%%%%%%%%%%%%%%%%%%%%%%%%%%%%%%%%%%%%%%%%%%%%%% RUN %%%%%%%%%%%%%%%%%%%%%%%%%%%%%%%%%%%%%%%%%%%%%%%%%%%%\n",
    "df_train3 = df_train.copy()"
   ]
  },
  {
   "cell_type": "code",
   "execution_count": 5,
   "metadata": {},
   "outputs": [],
   "source": [
    "# %%%%%%%%%%%%%%%%%%%%%%%%%%%%%%%%%%%%%%%%%%%%%%%%%%%% RUN %%%%%%%%%%%%%%%%%%%%%%%%%%%%%%%%%%%%%%%%%%%%%%%%%%%%\n",
    "\n",
    "from sklearn.preprocessing import LabelEncoder\n",
    "# creating instance of labelencoder\n",
    "LE = LabelEncoder()\n",
    "\n",
    "# Transforming non-numeric columns into numerical columns in Training Data Frame\n",
    "for column in df_train3.columns:\n",
    "    if df_train3[column].dtype == object:\n",
    "        df_train3[column] = LE.fit_transform(df_train3[column])\n"
   ]
  },
  {
   "cell_type": "code",
   "execution_count": 6,
   "metadata": {},
   "outputs": [],
   "source": [
    "# %%%%%%%%%%%%%%%%%%%%%%%%%%%%%%%%%%%%%%%%%%%%%%%%%%%% RUN %%%%%%%%%%%%%%%%%%%%%%%%%%%%%%%%%%%%%%%%%%%%%%%%%%%%\n",
    "\n",
    "Y = df_train3['Attrition']\n",
    "X = df_train3.drop(['Attrition'], axis=1)"
   ]
  },
  {
   "cell_type": "markdown",
   "metadata": {},
   "source": [
    "##### Feature Scaling"
   ]
  },
  {
   "cell_type": "code",
   "execution_count": 7,
   "metadata": {},
   "outputs": [],
   "source": [
    "# %%%%%%%%%%%%%%%%%%%%%%%%%%%%%%%%%%%%%%%%%%%%%%%%%%%% RUN %%%%%%%%%%%%%%%%%%%%%%%%%%%%%%%%%%%%%%%%%%%%%%%%%%%%\n",
    "from sklearn.preprocessing import StandardScaler, LabelEncoder\n",
    "from sklearn.model_selection import train_test_split\n",
    "\n",
    "# Feature Scaling\n",
    "std_sclr = StandardScaler()\n",
    "X_scale = std_sclr.fit_transform(X)\n",
    "X_scale = pd.DataFrame(X_scale,columns=X.columns)"
   ]
  },
  {
   "cell_type": "markdown",
   "metadata": {},
   "source": [
    "##### Splitting the dataset"
   ]
  },
  {
   "cell_type": "code",
   "execution_count": 8,
   "metadata": {},
   "outputs": [],
   "source": [
    "# %%%%%%%%%%%%%%%%%%%%%%%%%%%%%%%%%%%%%%%%%%%%%%%%%%%% RUN %%%%%%%%%%%%%%%%%%%%%%%%%%%%%%%%%%%%%%%%%%%%%%%%%%%%\n",
    "\n",
    "# Splitting the dataset into the Training set and Test set\n",
    "X_train_scale, X_test_scale, Y_train, Y_test = train_test_split(X_scale, Y, test_size = 0.25, random_state = 0)"
   ]
  },
  {
   "cell_type": "markdown",
   "metadata": {},
   "source": [
    "##### Principal Component Analysis"
   ]
  },
  {
   "cell_type": "code",
   "execution_count": 9,
   "metadata": {
    "scrolled": true
   },
   "outputs": [],
   "source": [
    "# %%%%%%%%%%%%%%%%%%%%%%%%%%%%%%%%%%%%%%%%%%%%%%%%%%%% RUN %%%%%%%%%%%%%%%%%%%%%%%%%%%%%%%%%%%%%%%%%%%%%%%%%%%%\n",
    "pca = PCA(n_components = None)\n",
    "X_train_pca = pca.fit_transform(X_train_scale)\n",
    "X_test_pca = pca.transform(X_test_scale)\n",
    "explained_variance = pca.explained_variance_ratio_"
   ]
  },
  {
   "cell_type": "code",
   "execution_count": 10,
   "metadata": {},
   "outputs": [],
   "source": [
    "# %%%%%%%%%%%%%%%%%%%%%%%%%%%%%%%%%%%%%%%%%%%%%%%%%%%% RUN %%%%%%%%%%%%%%%%%%%%%%%%%%%%%%%%%%%%%%%%%%%%%%%%%%%%\n",
    "pca_explained_variance = pd.DataFrame(list(explained_variance), columns=['explained_variance'])"
   ]
  },
  {
   "cell_type": "code",
   "execution_count": 11,
   "metadata": {},
   "outputs": [
    {
     "data": {
      "image/png": "[encoded data removed]",
      "text/plain": [
       "<Figure size 792x432 with 1 Axes>"
      ]
     },
     "metadata": {
      "needs_background": "light"
     },
     "output_type": "display_data"
    }
   ],
   "source": [
    "# %%%%%%%%%%%%%%%%%%%%%%%%%%%%%%%%%%%%%%%%%%%%%%%%%%%% RUN %%%%%%%%%%%%%%%%%%%%%%%%%%%%%%%%%%%%%%%%%%%%%%%%%%%%\n",
    "\n",
    "fig = plt.figure(figsize=(11,6))\n",
    "pca_explained_variance['explained_variance'].plot(kind = 'bar', stacked = True, colormap = 'winter', rot = 0)\n",
    "plt.xlabel('PCA Componants', fontsize = 'x-large')\n",
    "plt.ylabel('Variance', fontsize = 'x-large')\n",
    "plt.title('Principal Componant Analysis', fontsize = 'x-large')\n",
    "plt.show()"
   ]
  },
  {
   "cell_type": "markdown",
   "metadata": {},
   "source": [
    "### Stage 06: Applying Machine Learning Algorithms\n",
    "### ========================================\n",
    "\n",
    "Since we must predict a binary class, we will be using classification models for training & predicting Employee Attrition. We need to keep in mind that our focus should be to have a better accuracy of predicting attrition i.e. Attrition = 1 which in confusion matrix will be \"True Positive\". However, we should not forget the prediction accuracy of not qualifying for attrition i.e. Attrition = 0 which will be \"True Negative\" in confusion matrix.\n",
    "\n",
    "In this section; Logistic Regression, Decision Tree Classification, Random Forest Classification, K-NN Classification, Support Vector Machine (SVM) Classification, Kernel Support Vector Machine (SVM) Classification, Naïve Bayes Classification, Gradient Boosting Classification, and ADA Boost Classification algorithms are applied to the dataset.\n",
    "\n",
    "I will apply these algorithms into all features available and also features which explain the 90% of total importance via PCA. I will also try to improve model accuracy via hyperparameter tuning. I have coded four functions to apply to the models throughout this section."
   ]
  },
  {
   "cell_type": "markdown",
   "metadata": {},
   "source": [
    "##### Importing Libraries"
   ]
  },
  {
   "cell_type": "code",
   "execution_count": 12,
   "metadata": {},
   "outputs": [],
   "source": [
    "# %%%%%%%%%%%%%%%%%%%%%%%%%%%%%%%%%%%%%%%%%%%%%%%%%%%% RUN %%%%%%%%%%%%%%%%%%%%%%%%%%%%%%%%%%%%%%%%%%%%%%%%%%%%\n",
    "\n",
    "# Model selection\n",
    "from sklearn.model_selection import train_test_split\n",
    "from sklearn.model_selection import StratifiedShuffleSplit\n",
    "from sklearn.model_selection import KFold\n",
    "from sklearn.metrics import f1_score, confusion_matrix\n",
    "from sklearn.model_selection import GridSearchCV, RandomizedSearchCV\n",
    "from sklearn.model_selection import KFold\n",
    "from sklearn.feature_extraction.text import CountVectorizer\n",
    "\n",
    "# Import the necessary modelling algos.\n",
    "from sklearn.linear_model import LogisticRegression, LogisticRegressionCV\n",
    "from sklearn.svm import LinearSVC\n",
    "from sklearn.svm import SVC\n",
    "from sklearn.neighbors import KNeighborsClassifier\n",
    "from sklearn.ensemble import RandomForestClassifier, AdaBoostClassifier, GradientBoostingClassifier\n",
    "from sklearn.tree import DecisionTreeClassifier\n",
    "from sklearn.naive_bayes import GaussianNB"
   ]
  },
  {
   "cell_type": "markdown",
   "metadata": {},
   "source": [
    "##### Loading the Data"
   ]
  },
  {
   "cell_type": "code",
   "execution_count": 13,
   "metadata": {
    "scrolled": true
   },
   "outputs": [],
   "source": [
    "# %%%%%%%%%%%%%%%%%%%%%%%%%%%%%%%%%%%%%%%%%%%%%%%%%%%% RUN %%%%%%%%%%%%%%%%%%%%%%%%%%%%%%%%%%%%%%%%%%%%%%%%%%%%\n",
    "# Loading the testing data\n",
    "df_test_org = pd.read_csv('test.csv')\n",
    "\n",
    "# Droping the columns which don't effect the target column\n",
    "df_test = df_test_org.drop(['Id', 'Behaviour', 'EmployeeNumber', 'PerformanceRating'], axis=1)\n",
    "\n",
    "# Applying Lable encoding\n",
    "# ===========================\n",
    "\n",
    "from sklearn.preprocessing import LabelEncoder\n",
    "LE = LabelEncoder()\n",
    "\n",
    "# Transforming non-numeric columns into numerical columns in Training Data Frame\n",
    "for column in df_test.columns:\n",
    "    if df_test[column].dtype == object:\n",
    "        df_test[column] = LE.fit_transform(df_test[column])\n",
    "\n",
    "# Applying Feature Scaling\n",
    "# ===========================\n",
    "std_sclr = StandardScaler()\n",
    "df_test_scale = std_sclr.fit_transform(df_test)\n",
    "df_test_scale = pd.DataFrame(df_test_scale, columns=df_test.columns)\n"
   ]
  },
  {
   "cell_type": "code",
   "execution_count": 14,
   "metadata": {},
   "outputs": [
    {
     "data": {
      "text/plain": [
       "(470, 24)"
      ]
     },
     "execution_count": 14,
     "metadata": {},
     "output_type": "execute_result"
    }
   ],
   "source": [
    "df_test_scale.shape"
   ]
  },
  {
   "cell_type": "code",
   "execution_count": 15,
   "metadata": {},
   "outputs": [],
   "source": [
    "# Applying PCA by Extracting 24 features\n",
    "# ==================================\n",
    "from sklearn.decomposition import PCA\n",
    "pca = PCA(n_components = 24)\n",
    "df_test_pca = pd.DataFrame(pca.fit_transform(df_test_scale))\n",
    "df_test_pca.columns = df_test_scale.columns"
   ]
  },
  {
   "cell_type": "markdown",
   "metadata": {},
   "source": [
    "##### Classification Functions for Machine Learning Algorithms"
   ]
  },
  {
   "cell_type": "markdown",
   "metadata": {},
   "source": [
    "##### Classification Function"
   ]
  },
  {
   "cell_type": "code",
   "execution_count": 16,
   "metadata": {},
   "outputs": [],
   "source": [
    "# %%%%%%%%%%%%%%%%%%%%%%%%%%%%%%%%%%%%%%%%%%%%%%%%%%%% RUN %%%%%%%%%%%%%%%%%%%%%%%%%%%%%%%%%%%%%%%%%%%%%%%%%%%%\n",
    "# Creating temporary dataframe for storing ID and ATTRITION values into csv file.\n",
    "sample_submission = df_test_org[['Id']]"
   ]
  },
  {
   "cell_type": "code",
   "execution_count": 17,
   "metadata": {},
   "outputs": [],
   "source": [
    "# %%%%%%%%%%%%%%%%%%%%%%%%%%%%%%%%%%%%%%%%%%%%%%%%%%%% RUN %%%%%%%%%%%%%%%%%%%%%%%%%%%%%%%%%%%%%%%%%%%%%%%%%%%%\n",
    "# Creating data frame to store score values of models\n",
    "compare_scores = pd.DataFrame(np.full((9,4), 0.0), \n",
    "                   index = ['LogisticRegression', 'DecisionTreeClassifier', 'RandomForestClassifier','KNeighborsClassifier','SVM','KernelSVM', 'GaussianNB', 'GradientBoostingClassifier',  'AdaBoostClassifier'], \n",
    "                   columns = ['all_features', 'tuned_all_features', 'PCA_features', 'tuned_PCA_features'])"
   ]
  },
  {
   "cell_type": "code",
   "execution_count": 18,
   "metadata": {},
   "outputs": [],
   "source": [
    "# %%%%%%%%%%%%%%%%%%%%%%%%%%%%%%%%%%%%%%%%%%%%%%%%%%%% RUN %%%%%%%%%%%%%%%%%%%%%%%%%%%%%%%%%%%%%%%%%%%%%%%%%%%%\n",
    "\n",
    "def classification_model(X_train_set, X_test_set, df_test_set, Model, Model_string, col, bst_prms):\n",
    "    \n",
    "     # TRAINING DATA ======================================================================================================\n",
    "            # Fitting/Training classifier to the Training data set\n",
    "    Model.fit(X_train_set, Y_train)\n",
    "    \n",
    "    # VALIDATING ======================================================================================================\n",
    "            # Finding evaluation metric (f1-score), storing it into a data frame ('score') and  Printing. \n",
    "    Y_test_set_pred = Model.predict(X_test_set)\n",
    "    score = f1_score(Y_test, Y_test_set_pred, average = 'weighted')\n",
    "    compare_scores[col][Model_string] = score\n",
    "            # Printing the score\n",
    "    print(\"f1 score: {}\".format(score)) \n",
    "          # Printing the Confusion Matrix\n",
    "    print('Confusion Matrix is:\\n', confusion_matrix(Y_test, Y_test_set_pred)) \n",
    "    \n",
    "    # ======================================================================================================\n",
    "            # Printing Tuned Model Parameters\n",
    "    if bst_prms == 'YES':\n",
    "        print(\"Tuned Model Parameters: {}\".format(Model.best_params_))\n",
    "        \n",
    "    # CREATING CSV FILE ======================================================================================================\n",
    "            # Predicting the required testing set and storing into data frame\n",
    "    df_test_set_pred = Model.predict(df_test_set)\n",
    "    sample_submission['Attrition_val'] = df_test_set_pred\n",
    "    \n",
    "            # Predicting the probabilities for the df_test data and storing into data frame\n",
    "    df_test_set_pred_prob = Model.predict_proba(df_test_set)\n",
    "    sample_submission['Attrition_prob_0'] = df_test_set_pred_prob[:, 0]\n",
    "    sample_submission['Attrition_prob_1'] = df_test_set_pred_prob[:, 1]\n",
    "\n",
    "            # Exporting Dataframe into csv file\n",
    "    csv_file_name = 'sample_submission_' + Model_string + '_' + col + '.csv'\n",
    "    sample_submission.to_csv(csv_file_name, index=False)\n",
    "    print('CSV file is created successfully')\n",
    "    # ======================================================================================================\n"
   ]
  },
  {
   "cell_type": "markdown",
   "metadata": {},
   "source": [
    "#                                          ===========   =========== Applying Models =========== ==========="
   ]
  },
  {
   "cell_type": "markdown",
   "metadata": {},
   "source": [
    "### 4.1 - Logistic Regression\n",
    "##### ==================================================================================================================="
   ]
  },
  {
   "cell_type": "markdown",
   "metadata": {},
   "source": [
    "##### 4.1.1 - Logistic Regression with all features"
   ]
  },
  {
   "cell_type": "code",
   "execution_count": 19,
   "metadata": {
    "scrolled": true
   },
   "outputs": [
    {
     "name": "stdout",
     "output_type": "stream",
     "text": [
      "f1 score: 0.7420303166024437\n",
      "Confusion Matrix is:\n",
      " [[150  50]\n",
      " [ 55 152]]\n",
      "CSV file is created successfully\n"
     ]
    }
   ],
   "source": [
    "# %%%%%%%%%%%%%%%%%%%%%%%%%%%%%%%%%%%%%%%%%%%%%%%%%%%% RUN %%%%%%%%%%%%%%%%%%%%%%%%%%%%%%%%%%%%%%%%%%%%%%%%%%%%\n",
    "\n",
    "# Function for logistic regression with all features\n",
    "Model = LogisticRegression(random_state = 0)\n",
    "\n",
    "# Calling the function\n",
    "classification_model(X_train_scale, X_test_scale, df_test_scale, Model, Model_string='LogisticRegression', col='all_features', bst_prms='NO')\n",
    "\n",
    "# Assign f1 score to a variable for the model comparison \n",
    "# LR1 = score"
   ]
  },
  {
   "cell_type": "markdown",
   "metadata": {},
   "source": [
    "##### 4.1.2 - Logistic Regression with Hyperparameter Tuning (all features)"
   ]
  },
  {
   "cell_type": "code",
   "execution_count": 20,
   "metadata": {
    "scrolled": true
   },
   "outputs": [
    {
     "name": "stdout",
     "output_type": "stream",
     "text": [
      "f1 score: 0.7420303166024437\n",
      "Confusion Matrix is:\n",
      " [[150  50]\n",
      " [ 55 152]]\n",
      "Tuned Model Parameters: {'C': 1}\n",
      "CSV file is created successfully\n"
     ]
    }
   ],
   "source": [
    "# %%%%%%%%%%%%%%%%%%%%%%%%%%%%%%%%%%%%%%%%%%%%%%%%%%%% RUN %%%%%%%%%%%%%%%%%%%%%%%%%%%%%%%%%%%%%%%%%%%%%%%%%%%%\n",
    "\n",
    "# Set up parameters\n",
    "param_grid = {'C': np.arange(1, 1000)}\n",
    "\n",
    "# Function for hyperparameter tuning to logistic regression with all features\n",
    "Model = GridSearchCV(LogisticRegression(random_state = 0), param_grid, cv=5, scoring = 'f1_weighted')\n",
    "\n",
    "# Calling the function\n",
    "classification_model(X_train_scale, X_test_scale, df_test_scale, Model, Model_string='LogisticRegression', col='tuned_all_features', bst_prms='YES')\n",
    "\n",
    "# Assign f1 score to a variable for the model comparison \n",
    "# LR2 = score"
   ]
  },
  {
   "cell_type": "markdown",
   "metadata": {},
   "source": [
    "##### 4.1.3 - Logistic Regression with PCA features"
   ]
  },
  {
   "cell_type": "code",
   "execution_count": 21,
   "metadata": {
    "scrolled": true
   },
   "outputs": [
    {
     "name": "stdout",
     "output_type": "stream",
     "text": [
      "f1 score: 0.7420303166024437\n",
      "Confusion Matrix is:\n",
      " [[150  50]\n",
      " [ 55 152]]\n",
      "CSV file is created successfully\n"
     ]
    }
   ],
   "source": [
    "# %%%%%%%%%%%%%%%%%%%%%%%%%%%%%%%%%%%%%%%%%%%%%%%%%%%% RUN %%%%%%%%%%%%%%%%%%%%%%%%%%%%%%%%%%%%%%%%%%%%%%%%%%%%\n",
    "\n",
    "# Function for logistic regression with PCA features\n",
    "Model = LogisticRegression(random_state = 0)\n",
    "\n",
    "# Calling the function\n",
    "classification_model(X_train_pca, X_test_pca, df_test_pca, Model, Model_string='LogisticRegression', col='PCA_features', bst_prms='NO')\n",
    "\n",
    "# Assign f1 score to a variable for the model comparison \n",
    "# LR3 = score"
   ]
  },
  {
   "cell_type": "markdown",
   "metadata": {},
   "source": [
    "##### 4.1.4 - Logistic Regression with Hyperparameter Tuning (PCA features)"
   ]
  },
  {
   "cell_type": "code",
   "execution_count": 22,
   "metadata": {},
   "outputs": [
    {
     "name": "stdout",
     "output_type": "stream",
     "text": [
      "f1 score: 0.7420303166024437\n",
      "Confusion Matrix is:\n",
      " [[150  50]\n",
      " [ 55 152]]\n",
      "Tuned Model Parameters: {'C': 1}\n",
      "CSV file is created successfully\n"
     ]
    }
   ],
   "source": [
    "# %%%%%%%%%%%%%%%%%%%%%%%%%%%%%%%%%%%%%%%%%%%%%%%%%%%% RUN %%%%%%%%%%%%%%%%%%%%%%%%%%%%%%%%%%%%%%%%%%%%%%%%%%%%\n",
    "\n",
    "# Set up parameters\n",
    "param_grid={'C': np.arange(1, 100)}\n",
    "\n",
    "# Functions for tuning logistic regression with pca features\n",
    "Model = GridSearchCV(LogisticRegression(random_state = 0), param_grid, cv = 5, scoring = 'f1_weighted')\n",
    "\n",
    "# Calling the function\n",
    "score = classification_model(X_train_pca, X_test_pca, df_test_pca, Model, Model_string='LogisticRegression',col='tuned_PCA_features', bst_prms='YES')\n",
    "\n",
    "# Assign f1 score to a variable for the model comparison \n",
    "# LR4 = score"
   ]
  },
  {
   "cell_type": "markdown",
   "metadata": {},
   "source": [
    "### 4.2 - Decision Tree Classification\n",
    "##### ==================================================================================================================="
   ]
  },
  {
   "cell_type": "markdown",
   "metadata": {},
   "source": [
    "##### 4.2.1 - Decision Tree Classification with all features"
   ]
  },
  {
   "cell_type": "code",
   "execution_count": 23,
   "metadata": {},
   "outputs": [
    {
     "name": "stdout",
     "output_type": "stream",
     "text": [
      "f1 score: 0.9107119907119908\n",
      "Confusion Matrix is:\n",
      " [[164  36]\n",
      " [  0 207]]\n",
      "CSV file is created successfully\n"
     ]
    }
   ],
   "source": [
    "# %%%%%%%%%%%%%%%%%%%%%%%%%%%%%%%%%%%%%%%%%%%%%%%%%%%% RUN %%%%%%%%%%%%%%%%%%%%%%%%%%%%%%%%%%%%%%%%%%%%%%%%%%%%\n",
    "\n",
    "# Function for decision tree classification model with all features\n",
    "Model = DecisionTreeClassifier(criterion = 'gini', random_state = 0)\n",
    "\n",
    "# Calling the function\n",
    "score = classification_model(X_train_scale, X_test_scale, df_test_scale, Model, Model_string='DecisionTreeClassifier',col='all_features', bst_prms='NO')\n",
    "\n",
    "# Assign f1 score to a variable for the model comparison\n",
    "# DTC1 = score"
   ]
  },
  {
   "cell_type": "markdown",
   "metadata": {},
   "source": [
    "##### 4.2.2 - Decision Tree Classification with Hyperparameter Tuning (all features)"
   ]
  },
  {
   "cell_type": "code",
   "execution_count": 24,
   "metadata": {},
   "outputs": [
    {
     "name": "stdout",
     "output_type": "stream",
     "text": [
      "f1 score: 0.9182665100226317\n",
      "Confusion Matrix is:\n",
      " [[167  33]\n",
      " [  0 207]]\n",
      "Tuned Model Parameters: {'criterion': 'entropy', 'max_depth': 27.0, 'min_samples_leaf': 1}\n",
      "CSV file is created successfully\n"
     ]
    }
   ],
   "source": [
    "# %%%%%%%%%%%%%%%%%%%%%%%%%%%%%%%%%%%%%%%%%%%%%%%%%%%% RUN %%%%%%%%%%%%%%%%%%%%%%%%%%%%%%%%%%%%%%%%%%%%%%%%%%%%\n",
    "\n",
    "# Setup the parameters and distributions to sample from: param_dist\n",
    "param_dist = {\"max_depth\": np.linspace(1, 32, 32, endpoint=True),\n",
    "              \"min_samples_leaf\": randint(1, 9),\n",
    "              \"criterion\": [\"gini\", \"entropy\"]}\n",
    "\n",
    "# Function for hyperparameter tuning to decision tree classification with all features\n",
    "Model = RandomizedSearchCV(DecisionTreeClassifier(criterion = 'gini', random_state = 0), param_dist, cv=5, scoring = 'f1_weighted')\n",
    "\n",
    "# Calling the function\n",
    "classification_model(X_train_scale, X_test_scale, df_test_scale, Model, Model_string='DecisionTreeClassifier',col='tuned_all_features', bst_prms='YES')\n",
    "\n",
    "# Assign f1 score to a variable for the model comparison\n",
    "# DTC2 = score"
   ]
  },
  {
   "cell_type": "markdown",
   "metadata": {},
   "source": [
    "##### 4.2.3 - Decision Tree Classification with PCA features"
   ]
  },
  {
   "cell_type": "code",
   "execution_count": 25,
   "metadata": {},
   "outputs": [
    {
     "name": "stdout",
     "output_type": "stream",
     "text": [
      "f1 score: 0.9157517041738352\n",
      "Confusion Matrix is:\n",
      " [[166  34]\n",
      " [  0 207]]\n",
      "CSV file is created successfully\n"
     ]
    }
   ],
   "source": [
    "# %%%%%%%%%%%%%%%%%%%%%%%%%%%%%%%%%%%%%%%%%%%%%%%%%%%% RUN %%%%%%%%%%%%%%%%%%%%%%%%%%%%%%%%%%%%%%%%%%%%%%%%%%%%\n",
    "\n",
    "# Function for decision tree classification with PCA features\n",
    "Model = DecisionTreeClassifier(criterion = 'gini', random_state = 0)\n",
    "\n",
    "# Calling the function\n",
    "classification_model(X_train_pca, X_test_pca, df_test_pca, Model, Model_string='DecisionTreeClassifier',col='PCA_features', bst_prms='NO')\n",
    "\n",
    "# Assign f1 score to a variable for the model comparison \n",
    "# DTC3 = score"
   ]
  },
  {
   "cell_type": "markdown",
   "metadata": {},
   "source": [
    "##### 4.2.4 - Decision Tree with Hyperparameter Tuning (PCA features)"
   ]
  },
  {
   "cell_type": "code",
   "execution_count": 26,
   "metadata": {},
   "outputs": [
    {
     "name": "stdout",
     "output_type": "stream",
     "text": [
      "f1 score: 0.9357848611859307\n",
      "Confusion Matrix is:\n",
      " [[174  26]\n",
      " [  0 207]]\n",
      "Tuned Model Parameters: {'criterion': 'entropy', 'max_depth': 14.0, 'min_samples_leaf': 1}\n",
      "CSV file is created successfully\n"
     ]
    }
   ],
   "source": [
    "# %%%%%%%%%%%%%%%%%%%%%%%%%%%%%%%%%%%%%%%%%%%%%%%%%%%% RUN %%%%%%%%%%%%%%%%%%%%%%%%%%%%%%%%%%%%%%%%%%%%%%%%%%%%\n",
    "\n",
    "# Setup the parameters and distributions to sample from: param_dist\n",
    "param_dist = {\"max_depth\": np.linspace(1, 32, 32, endpoint = True),\n",
    "              \"min_samples_leaf\": randint(1, 9),\n",
    "              \"criterion\": [\"gini\", \"entropy\"]}\n",
    "\n",
    "# Functions for tuning decision trees with pca features\n",
    "Model = RandomizedSearchCV(DecisionTreeClassifier(criterion = 'gini', random_state = 0), param_dist, cv = 5, scoring = 'f1_weighted', random_state = 0)\n",
    "\n",
    "# Calling the function\n",
    "classification_model(X_train_pca, X_test_pca, df_test_pca, Model, Model_string='DecisionTreeClassifier',col='tuned_PCA_features', bst_prms='YES')\n",
    "\n",
    "# Assign f1 score to a variable for the model comparison \n",
    "# DTC4 = score"
   ]
  },
  {
   "cell_type": "markdown",
   "metadata": {},
   "source": [
    "### 4.3 - Random Forest Classification\n",
    "==================================================================================================================="
   ]
  },
  {
   "cell_type": "markdown",
   "metadata": {},
   "source": [
    "##### 4.3.1 - Random Forest Classification with all features"
   ]
  },
  {
   "cell_type": "code",
   "execution_count": 29,
   "metadata": {},
   "outputs": [
    {
     "name": "stdout",
     "output_type": "stream",
     "text": [
      "f1 score: 0.9532763085573664\n",
      "Confusion Matrix is:\n",
      " [[186  14]\n",
      " [  5 202]]\n",
      "CSV file is created successfully\n"
     ]
    }
   ],
   "source": [
    "# %%%%%%%%%%%%%%%%%%%%%%%%%%%%%%%%%%%%%%%%%%%%%%%%%%%% RUN %%%%%%%%%%%%%%%%%%%%%%%%%%%%%%%%%%%%%%%%%%%%%%%%%%%%\n",
    "\n",
    "# Function for Random Forest Classification model with all features\n",
    "Model = RandomForestClassifier(n_estimators = 10, criterion = 'entropy', random_state = 0)\n",
    "\n",
    "# Calling the function\n",
    "score = classification_model(X_train_scale, X_test_scale, df_test_scale, Model, Model_string='RFC',col='all_features', bst_prms='NO')\n",
    "\n",
    "# Assign f1 score to a variable for model comparison\n",
    "# RFC1 = score"
   ]
  },
  {
   "cell_type": "markdown",
   "metadata": {},
   "source": [
    "##### 4.3.2 - Random Forest Classification with Hyperparameter Tuning (all features)"
   ]
  },
  {
   "cell_type": "code",
   "execution_count": 30,
   "metadata": {},
   "outputs": [
    {
     "name": "stdout",
     "output_type": "stream",
     "text": [
      "Fitting 5 folds for each of 100 candidates, totalling 500 fits\n"
     ]
    },
    {
     "name": "stderr",
     "output_type": "stream",
     "text": [
      "[Parallel(n_jobs=-1)]: Using backend LokyBackend with 4 concurrent workers.\n",
      "[Parallel(n_jobs=-1)]: Done  33 tasks      | elapsed:   36.5s\n",
      "[Parallel(n_jobs=-1)]: Done 154 tasks      | elapsed:  1.8min\n",
      "[Parallel(n_jobs=-1)]: Done 357 tasks      | elapsed:  3.8min\n",
      "[Parallel(n_jobs=-1)]: Done 500 out of 500 | elapsed:  5.1min finished\n"
     ]
    },
    {
     "name": "stdout",
     "output_type": "stream",
     "text": [
      "f1 score: 0.9680531798575398\n",
      "Confusion Matrix is:\n",
      " [[192   8]\n",
      " [  5 202]]\n",
      "Tuned Model Parameters: {'n_estimators': 336, 'min_samples_split': 2, 'min_samples_leaf': 1, 'max_features': 'sqrt', 'max_depth': 20}\n",
      "CSV file is created successfully\n"
     ]
    }
   ],
   "source": [
    "# Setup the parameters and distributions to sample from: param_dist\n",
    "n_estimators = [int(x) for x in np.linspace(start = 10, stop = 500, num = 10)]\n",
    "max_features = ['auto', 'sqrt']\n",
    "max_depth = [int(x) for x in np.linspace(10, 110, num = 11)]\n",
    "max_depth.append(None)\n",
    "min_samples_split = [2, 5, 10]\n",
    "min_samples_leaf = [1, 2, 4]\n",
    "\n",
    "random_grid = {'n_estimators': n_estimators,\n",
    "               'max_features': max_features,\n",
    "               'max_depth': max_depth,\n",
    "               'min_samples_split': min_samples_split,\n",
    "               'min_samples_leaf': min_samples_leaf}\n",
    "\n",
    "# Function for hyperparameter tuning to random forest classification with all features\n",
    "Model = RandomizedSearchCV(estimator = RandomForestClassifier(random_state = 0),\n",
    "                           param_distributions = random_grid, n_iter = 100, cv = 5,\n",
    "                           verbose=2, random_state=0, n_jobs = -1, scoring = 'f1_weighted')\n",
    "\n",
    "# Calling the function\n",
    "classification_model(X_train_scale, X_test_scale, df_test_scale, Model, Model_string='RandomForestClassifier', col='tuned_all_features', bst_prms = 'YES')\n",
    "\n",
    "# Assign f1 score to a variable for model comparison\n",
    "# RFC2 = score"
   ]
  },
  {
   "cell_type": "markdown",
   "metadata": {},
   "source": [
    "##### 4.3.3 - Random Forest Classification with PCA features"
   ]
  },
  {
   "cell_type": "code",
   "execution_count": 31,
   "metadata": {
    "scrolled": true
   },
   "outputs": [
    {
     "name": "stdout",
     "output_type": "stream",
     "text": [
      "f1 score: 0.970512765110755\n",
      "Confusion Matrix is:\n",
      " [[193   7]\n",
      " [  5 202]]\n",
      "CSV file is created successfully\n"
     ]
    }
   ],
   "source": [
    "# Function for Random Forest Classification with PCA features\n",
    "Model = RandomForestClassifier(random_state=0)\n",
    "\n",
    "# Calling the function\n",
    "classification_model(X_train_pca, X_test_pca, df_test_pca, Model, Model_string='RandomForestClassifier',col='PCA_features', bst_prms = 'NO')\n",
    "\n",
    "# Assign f1 score to a variable for the model comparison \n",
    "# RFC3 = score"
   ]
  },
  {
   "cell_type": "markdown",
   "metadata": {},
   "source": [
    "##### 4.3.4 - Random Forest with Hyperparameter Tuning (PCA features)"
   ]
  },
  {
   "cell_type": "code",
   "execution_count": 32,
   "metadata": {},
   "outputs": [
    {
     "name": "stdout",
     "output_type": "stream",
     "text": [
      "Fitting 5 folds for each of 100 candidates, totalling 500 fits\n"
     ]
    },
    {
     "name": "stderr",
     "output_type": "stream",
     "text": [
      "[Parallel(n_jobs=-1)]: Using backend LokyBackend with 4 concurrent workers.\n",
      "[Parallel(n_jobs=-1)]: Done  33 tasks      | elapsed:    7.8s\n",
      "[Parallel(n_jobs=-1)]: Done 154 tasks      | elapsed:   31.3s\n",
      "[Parallel(n_jobs=-1)]: Done 357 tasks      | elapsed:  1.1min\n",
      "[Parallel(n_jobs=-1)]: Done 500 out of 500 | elapsed:  1.4min finished\n"
     ]
    },
    {
     "name": "stdout",
     "output_type": "stream",
     "text": [
      "f1 score: 0.9754299754299754\n",
      "Confusion Matrix is:\n",
      " [[195   5]\n",
      " [  5 202]]\n",
      "Tuned Model Parameters: {'n_estimators': 80, 'min_samples_split': 2, 'min_samples_leaf': 1, 'max_features': 'sqrt', 'max_depth': 110}\n",
      "CSV file is created successfully\n"
     ]
    }
   ],
   "source": [
    "# Seting up parameters\n",
    "n_estimators = [int(x) for x in np.linspace(start = 10, stop = 100, num = 10)]\n",
    "max_features = ['auto', 'sqrt']\n",
    "max_depth = [int(x) for x in np.linspace(10, 110, num = 11)]\n",
    "max_depth.append(None)\n",
    "min_samples_split = [2, 5, 10]\n",
    "min_samples_leaf = [1, 2, 4]\n",
    "\n",
    "random_grid = {'n_estimators': n_estimators,\n",
    "               'max_features': max_features,\n",
    "               'max_depth': max_depth,\n",
    "               'min_samples_split': min_samples_split,\n",
    "               'min_samples_leaf': min_samples_leaf}\n",
    "\n",
    "# Functions for tuning Random Forest classification with pca features\n",
    "Model = RandomizedSearchCV(estimator = RandomForestClassifier(), \n",
    "                           param_distributions = random_grid,\n",
    "                           n_iter = 100, cv = 5, verbose=2, random_state=0,\n",
    "                           n_jobs = -1, scoring = 'f1_weighted')\n",
    "\n",
    "# Calling the function\n",
    "score = classification_model(X_train_pca, X_test_pca, df_test_pca, Model, Model_string='RFC', col='tuned_PCA_features', bst_prms = 'YES')\n",
    "\n",
    "# Assign f1 score to a variable for the model comparison \n",
    "RFC4 = score"
   ]
  },
  {
   "cell_type": "markdown",
   "metadata": {},
   "source": [
    "### 4.4 - K-NN Classification\n",
    "##### ==================================================================================================================="
   ]
  },
  {
   "cell_type": "markdown",
   "metadata": {},
   "source": [
    "##### 4.4.1 - K-NN Classification with all features"
   ]
  },
  {
   "cell_type": "code",
   "execution_count": 33,
   "metadata": {},
   "outputs": [
    {
     "name": "stdout",
     "output_type": "stream",
     "text": [
      "f1 score: 0.8015822015822015\n",
      "Confusion Matrix is:\n",
      " [[142  58]\n",
      " [ 22 185]]\n",
      "CSV file is created successfully\n"
     ]
    }
   ],
   "source": [
    "# Function for K-NN classification with all features\n",
    "Model = KNeighborsClassifier()\n",
    "\n",
    "# Calling the function\n",
    "classification_model(X_train_scale, X_test_scale, df_test_scale, Model, Model_string='KNeighborsClassifier', col='all_features', bst_prms = 'NO')\n",
    "\n",
    "# Assign f1 score to a variable for the model comparison\n",
    "# KNC1 = score"
   ]
  },
  {
   "cell_type": "markdown",
   "metadata": {},
   "source": [
    "##### 4.4.2 - K-NN Classification with Hyperparameter Tuning (all features)"
   ]
  },
  {
   "cell_type": "code",
   "execution_count": 34,
   "metadata": {},
   "outputs": [
    {
     "name": "stdout",
     "output_type": "stream",
     "text": [
      "f1 score: 0.9407655449625721\n",
      "Confusion Matrix is:\n",
      " [[176  24]\n",
      " [  0 207]]\n",
      "Tuned Model Parameters: {'n_neighbors': 1}\n",
      "CSV file is created successfully\n"
     ]
    }
   ],
   "source": [
    "# Set up parameters\n",
    "param_grid={'n_neighbors': np.arange(1, 50)}\n",
    "\n",
    "# Function for hyperparameter tuning to K-NN classification with all features\n",
    "Model = GridSearchCV(KNeighborsClassifier(), param_grid, cv = 5, scoring = 'f1_weighted')\n",
    "\n",
    "# Calling the function\n",
    "classification_model(X_train_scale, X_test_scale, df_test_scale, Model, Model_string='KNeighborsClassifier', col='tuned_all_features', bst_prms = 'YES')\n",
    "\n",
    "# Assign f1 score to a variable for the model comparison \n",
    "# KNC2 = score"
   ]
  },
  {
   "cell_type": "markdown",
   "metadata": {},
   "source": [
    "##### 4.4.3 - K-NN Classification with PCA features"
   ]
  },
  {
   "cell_type": "code",
   "execution_count": 35,
   "metadata": {
    "scrolled": true
   },
   "outputs": [
    {
     "name": "stdout",
     "output_type": "stream",
     "text": [
      "f1 score: 0.8015822015822015\n",
      "Confusion Matrix is:\n",
      " [[142  58]\n",
      " [ 22 185]]\n",
      "CSV file is created successfully\n"
     ]
    }
   ],
   "source": [
    "# Function for K-NN Classification with PCA features\n",
    "Model = KNeighborsClassifier()\n",
    "\n",
    "# Calling the function\n",
    "classification_model(X_train_pca, X_test_pca, df_test_pca, Model, Model_string='KNeighborsClassifier', col='PCA_features', bst_prms = 'NO')\n",
    "\n",
    "# Assign f1 score to a variable for the model comparison \n",
    "# KNC3 = score"
   ]
  },
  {
   "cell_type": "markdown",
   "metadata": {},
   "source": [
    "##### 4.4.4 - K-NN with Hyperparameter Tuning (PCA features)"
   ]
  },
  {
   "cell_type": "code",
   "execution_count": 36,
   "metadata": {},
   "outputs": [
    {
     "name": "stdout",
     "output_type": "stream",
     "text": [
      "f1 score: 0.9407655449625721\n",
      "Confusion Matrix is:\n",
      " [[176  24]\n",
      " [  0 207]]\n",
      "Tuned Model Parameters: {'n_neighbors': 1}\n",
      "CSV file is created successfully\n"
     ]
    }
   ],
   "source": [
    "# Setting up parameters\n",
    "param_grid={'n_neighbors': np.arange(1, 50)}\n",
    "\n",
    "# Functions for tuning K-NN classification with pca features\n",
    "Model = GridSearchCV(KNeighborsClassifier(), param_grid, cv = 5, scoring = 'f1_weighted')\n",
    "\n",
    "# Calling the function\n",
    "classification_model(X_train_pca, X_test_pca, df_test_pca, Model, Model_string='KNeighborsClassifier', col='tuned_PCA_features', bst_prms = 'YES')\n",
    "\n",
    "# Assign f1 score to a variable for the model comparison \n",
    "# KNC4 = score"
   ]
  },
  {
   "cell_type": "markdown",
   "metadata": {},
   "source": [
    "### 4.5 - Support Vector Machine(SVM) Classification\n",
    "##### ==================================================================================================================="
   ]
  },
  {
   "cell_type": "markdown",
   "metadata": {},
   "source": [
    "##### 4.5.1 - SVM Classification with all features"
   ]
  },
  {
   "cell_type": "code",
   "execution_count": 37,
   "metadata": {},
   "outputs": [
    {
     "name": "stdout",
     "output_type": "stream",
     "text": [
      "f1 score: 0.7566921397860884\n",
      "Confusion Matrix is:\n",
      " [[156  44]\n",
      " [ 55 152]]\n",
      "CSV file is created successfully\n"
     ]
    }
   ],
   "source": [
    "# Function for SVM classifier with all features\n",
    "Model = SVC(kernel = 'linear', random_state = 0, probability=True)\n",
    "\n",
    "# Calling the function\n",
    "classification_model(X_train_scale, X_test_scale, df_test_scale, Model,  Model_string='SVM', col='all_features', bst_prms = 'NO')\n",
    "\n",
    "# Assign f1 score to a variable for the model comparison\n",
    "# SVC1 = score"
   ]
  },
  {
   "cell_type": "markdown",
   "metadata": {},
   "source": [
    "##### 4.5.2 - SVM Classification with Hyperparameter Tuning (all features)"
   ]
  },
  {
   "cell_type": "code",
   "execution_count": 38,
   "metadata": {},
   "outputs": [
    {
     "name": "stdout",
     "output_type": "stream",
     "text": [
      "f1 score: 0.7542552541345104\n",
      "Confusion Matrix is:\n",
      " [[155  45]\n",
      " [ 55 152]]\n",
      "Tuned Model Parameters: {'C': 0.1, 'gamma': 0.001}\n",
      "CSV file is created successfully\n"
     ]
    }
   ],
   "source": [
    "# Specify the hyperparameter space\n",
    "CS = [0.001, 0.01, 0.1, 1, 10]\n",
    "gammas = [0.001, 0.01, 0.1, 1]\n",
    "param_grid = {'C': CS, 'gamma' : gammas}\n",
    "\n",
    "# Function for hyperparameter tuning to SVM classification with all features\n",
    "Model = GridSearchCV(SVC(kernel='linear', probability=True), param_grid, cv = 5, scoring = 'f1_weighted')\n",
    "\n",
    "# Calling the function\n",
    "classification_model(X_train_scale, X_test_scale, df_test_scale, Model, Model_string='SVM', col='tuned_all_features', bst_prms = 'YES')\n",
    "\n",
    "# Assign f1 score to a variable for the model comparison\n",
    "# SVC2 = score"
   ]
  },
  {
   "cell_type": "markdown",
   "metadata": {},
   "source": [
    "##### 4.5.3 - SVM Classification with PCA features"
   ]
  },
  {
   "cell_type": "code",
   "execution_count": 39,
   "metadata": {},
   "outputs": [
    {
     "name": "stdout",
     "output_type": "stream",
     "text": [
      "f1 score: 0.8865403590174232\n",
      "Confusion Matrix is:\n",
      " [[166  34]\n",
      " [ 12 195]]\n",
      "CSV file is created successfully\n"
     ]
    }
   ],
   "source": [
    "# Function for SVM classification with PCA features\n",
    "Model = SVC(probability=True)\n",
    "\n",
    "# Calling the function\n",
    "classification_model(X_train_pca, X_test_pca, df_test_pca, Model, Model_string='SVM', col='PCA_features', bst_prms = 'NO')\n",
    "\n",
    "# Assign f1 score to a variable for the model comparison\n",
    "# SVC3 = score"
   ]
  },
  {
   "cell_type": "markdown",
   "metadata": {},
   "source": [
    "##### 4.5.4 - SVM with Hyperparameter Tuning (PCA features)"
   ]
  },
  {
   "cell_type": "code",
   "execution_count": 40,
   "metadata": {},
   "outputs": [
    {
     "name": "stdout",
     "output_type": "stream",
     "text": [
      "f1 score: 0.7542552541345104\n",
      "Confusion Matrix is:\n",
      " [[155  45]\n",
      " [ 55 152]]\n",
      "Tuned Model Parameters: {'C': 0.1, 'gamma': 0.001}\n",
      "CSV file is created successfully\n"
     ]
    }
   ],
   "source": [
    "# Specify the hyperparameter space\n",
    "CS = [0.001, 0.01, 0.1, 1, 10]\n",
    "gammas = [0.001, 0.01, 0.1, 1]\n",
    "param_grid = {'C': CS, 'gamma' : gammas}\n",
    "\n",
    "# Functions for tuning SVM classification with pca features\n",
    "Model = GridSearchCV(SVC(kernel='linear', probability=True), param_grid, cv=5, scoring = 'f1_weighted')\n",
    "\n",
    "# Calling the function\n",
    "classification_model(X_train_pca, X_test_pca, df_test_pca, Model, Model_string='SVM', col='tuned_PCA_features', bst_prms = 'YES')\n",
    "\n",
    "# Assign f1 score to a variable for the model comparison\n",
    "# SVC4 = score"
   ]
  },
  {
   "cell_type": "markdown",
   "metadata": {},
   "source": [
    "### 4.6 - Kernel Support Vector Machine(SVM) Classification\n",
    "##### ==================================================================================================================="
   ]
  },
  {
   "cell_type": "markdown",
   "metadata": {},
   "source": [
    "##### 4.6.1 - Kernel SVM Classification with all features"
   ]
  },
  {
   "cell_type": "code",
   "execution_count": 41,
   "metadata": {},
   "outputs": [
    {
     "name": "stdout",
     "output_type": "stream",
     "text": [
      "f1 score: 0.8865403590174232\n",
      "Confusion Matrix is:\n",
      " [[166  34]\n",
      " [ 12 195]]\n",
      "CSV file is created successfully\n"
     ]
    }
   ],
   "source": [
    "# Function for Kernal SVM classifier with all features\n",
    "Model = SVC(kernel = 'rbf', random_state = 0, probability=True)\n",
    "\n",
    "# Calling the function\n",
    "classification_model(X_train_scale, X_test_scale, df_test_scale, Model, Model_string='KernelSVM', col='all_features', bst_prms = 'NO')\n",
    "\n",
    "# Assign f1 score to a variable for the model comparison\n",
    "# KSVC1 = score"
   ]
  },
  {
   "cell_type": "markdown",
   "metadata": {},
   "source": [
    "##### 4.6.2 - Kernel SVM Classification with Hyperparameter Tuning (all features)"
   ]
  },
  {
   "cell_type": "code",
   "execution_count": 42,
   "metadata": {},
   "outputs": [
    {
     "name": "stdout",
     "output_type": "stream",
     "text": [
      "f1 score: 0.9877157293620212\n",
      "Confusion Matrix is:\n",
      " [[200   0]\n",
      " [  5 202]]\n",
      "Tuned Model Parameters: {'C': 1, 'gamma': 1}\n",
      "CSV file is created successfully\n"
     ]
    }
   ],
   "source": [
    "# Specify the hyperparameter space\n",
    "CS = [0.001, 0.01, 0.1, 1, 10]\n",
    "gammas = [0.001, 0.01, 0.1, 1]\n",
    "param_grid = {'C': CS, 'gamma' : gammas}\n",
    "\n",
    "# Function for hyperparameter tuning to Kernel SVM classification with all features\n",
    "Model = GridSearchCV(SVC(kernel='rbf', probability=True), param_grid, cv=5, scoring = 'f1_weighted')\n",
    "\n",
    "# Calling the function\n",
    "classification_model(X_train_scale, X_test_scale, df_test_scale, Model, Model_string='KernelSVM', col='tuned_all_features', bst_prms = 'YES')\n",
    "\n",
    "# Assign f1 score to a variable for the model comparison\n",
    "# KSVC2 = score"
   ]
  },
  {
   "cell_type": "markdown",
   "metadata": {},
   "source": [
    "##### 4.6.3 - Kernel SVM Classification with PCA features"
   ]
  },
  {
   "cell_type": "code",
   "execution_count": 43,
   "metadata": {},
   "outputs": [
    {
     "name": "stdout",
     "output_type": "stream",
     "text": [
      "f1 score: 0.8865403590174232\n",
      "Confusion Matrix is:\n",
      " [[166  34]\n",
      " [ 12 195]]\n",
      "CSV file is created successfully\n"
     ]
    }
   ],
   "source": [
    "# Function for Kernel SVM classification with PCA features\n",
    "Model = SVC(kernel='rbf', random_state = 0, probability=True)\n",
    "\n",
    "# Calling the function\n",
    "classification_model(X_train_pca, X_test_pca, df_test_pca, Model, Model_string='KernelSVM', col='PCA_features', bst_prms = 'NO')\n",
    "\n",
    "# Assign f1 score to a variable for the model comparison\n",
    "# KSVC3 = score"
   ]
  },
  {
   "cell_type": "markdown",
   "metadata": {},
   "source": [
    "##### 4.6.4 - Kernel SVM with Hyperparameter Tuning (PCA features)"
   ]
  },
  {
   "cell_type": "code",
   "execution_count": 44,
   "metadata": {},
   "outputs": [
    {
     "name": "stdout",
     "output_type": "stream",
     "text": [
      "f1 score: 0.9877157293620212\n",
      "Confusion Matrix is:\n",
      " [[200   0]\n",
      " [  5 202]]\n",
      "Tuned Model Parameters: {'C': 1, 'gamma': 1}\n",
      "CSV file is created successfully\n"
     ]
    }
   ],
   "source": [
    "# Specify the hyperparameter space\n",
    "CS = [0.001, 0.01, 0.1, 1, 10]\n",
    "gammas = [0.001, 0.01, 0.1, 1]\n",
    "param_grid = {'C': CS, 'gamma' : gammas}\n",
    "\n",
    "# Functions for tuning SVM classification with pca features\n",
    "Model = GridSearchCV(SVC(kernel='rbf', probability=True), param_grid,cv = 5, scoring = 'f1_weighted')\n",
    "\n",
    "# Calling the function\n",
    "classification_model(X_train_pca, X_test_pca, df_test_pca, Model, Model_string='KernelSVM', col='tuned_PCA_features', bst_prms = 'YES')\n",
    "\n",
    "# Assign f1 score to a variable for the model comparison\n",
    "# KSVC4 = score"
   ]
  },
  {
   "cell_type": "markdown",
   "metadata": {},
   "source": [
    "### 4.7 - Naive Bayes Classification\n",
    "==================================================================================================================="
   ]
  },
  {
   "cell_type": "markdown",
   "metadata": {},
   "source": [
    "##### 4.7.1 - Naive Bayes Classification with all features"
   ]
  },
  {
   "cell_type": "code",
   "execution_count": 45,
   "metadata": {},
   "outputs": [
    {
     "name": "stdout",
     "output_type": "stream",
     "text": [
      "f1 score: 0.6149813606710158\n",
      "Confusion Matrix is:\n",
      " [[ 98 102]\n",
      " [ 52 155]]\n",
      "CSV file is created successfully\n"
     ]
    }
   ],
   "source": [
    "# Function for Naive Bayes Classifier with all features\n",
    "Model = GaussianNB()\n",
    "\n",
    "# Calling the function\n",
    "classification_model(X_train_scale, X_test_scale, df_test_scale, Model, Model_string='GaussianNB', col='all_features', bst_prms = 'NO')\n",
    "\n",
    "# Assign f1 score to a variable for the model comparison\n",
    "# NBC1 = score"
   ]
  },
  {
   "cell_type": "markdown",
   "metadata": {},
   "source": [
    "##### 4.7.2 - Naive Bayes Classification with Hyperparameter Tuning (all features)\n",
    "Not checking"
   ]
  },
  {
   "cell_type": "markdown",
   "metadata": {},
   "source": [
    "##### 4.7.3 - Naive Bayes Classification with PCA features"
   ]
  },
  {
   "cell_type": "code",
   "execution_count": 46,
   "metadata": {
    "scrolled": true
   },
   "outputs": [
    {
     "name": "stdout",
     "output_type": "stream",
     "text": [
      "f1 score: 0.72338094049324\n",
      "Confusion Matrix is:\n",
      " [[131  69]\n",
      " [ 43 164]]\n",
      "CSV file is created successfully\n"
     ]
    }
   ],
   "source": [
    "# Function for Naive Bayes Classification with PCA features\n",
    "Model = GaussianNB()\n",
    "\n",
    "# Calling the function\n",
    "classification_model(X_train_pca, X_test_pca, df_test_pca, Model, Model_string='GaussianNB', col='PCA_features', bst_prms = 'NO')\n",
    "\n",
    "# Assign f1 score to a variable for the model comparison\n",
    "# NBC2 = score"
   ]
  },
  {
   "cell_type": "markdown",
   "metadata": {},
   "source": [
    "##### 4.7.4 - Naive Bayes Classification with Hyperparameter Tuning (PCA features)\n",
    "Not checking"
   ]
  },
  {
   "cell_type": "markdown",
   "metadata": {},
   "source": [
    "### 4-8 Gradient Boosting Classification \n",
    "==================================================================================================================="
   ]
  },
  {
   "cell_type": "markdown",
   "metadata": {},
   "source": [
    "##### 4.8.1 - Gradient Boosting Classification with all features"
   ]
  },
  {
   "cell_type": "code",
   "execution_count": 47,
   "metadata": {},
   "outputs": [
    {
     "name": "stdout",
     "output_type": "stream",
     "text": [
      "f1 score: 0.9090117587696083\n",
      "Confusion Matrix is:\n",
      " [[177  23]\n",
      " [ 14 193]]\n",
      "CSV file is created successfully\n"
     ]
    }
   ],
   "source": [
    "# Function for Gradient Boosting Classifier with all features\n",
    "Model = GradientBoostingClassifier()\n",
    "\n",
    "# Calling the function\n",
    "classification_model(X_train_scale, X_test_scale, df_test_scale, Model, Model_string='GradientBoostingClassifier', col='all_features', bst_prms = 'NO')\n",
    "\n",
    "# Assign f1 score to a variable for the model comparison\n",
    "# GBC1 = score"
   ]
  },
  {
   "cell_type": "markdown",
   "metadata": {},
   "source": [
    "##### 4.8.2 - Gradient Boosting Classification with Hyperparameter Tuning (all features)"
   ]
  },
  {
   "cell_type": "code",
   "execution_count": 48,
   "metadata": {
    "scrolled": true
   },
   "outputs": [
    {
     "name": "stdout",
     "output_type": "stream",
     "text": [
      "f1 score: 0.9409270029578973\n",
      "Confusion Matrix is:\n",
      " [[181  19]\n",
      " [  5 202]]\n",
      "CSV file is created successfully\n"
     ]
    }
   ],
   "source": [
    "# Setting Parameters\n",
    "gb_params ={\n",
    "    'n_estimators': 1500,\n",
    "    'max_features': 0.9,\n",
    "    'learning_rate' : 0.25,\n",
    "    'max_depth': 2,\n",
    "    'min_samples_leaf': 3,\n",
    "    'subsample': 1,\n",
    "    'max_features' : 'sqrt',\n",
    "    'random_state' : 0\n",
    "}\n",
    "\n",
    "# Instantiate Gradient Boosting classifier: gb\n",
    "Model = GradientBoostingClassifier(**gb_params)\n",
    "\n",
    "# Calling the function\n",
    "classification_model(X_train_scale, X_test_scale, df_test_scale, Model, Model_string='GradientBoostingClassifier', col='tuned_all_features', bst_prms = 'NO')\n",
    "\n",
    "# Assign f1 score to a variable for the model comparison\n",
    "# GBC2 = score"
   ]
  },
  {
   "cell_type": "markdown",
   "metadata": {},
   "source": [
    "##### 4.8.3 - Gradient Boosting Classification with PCA features"
   ]
  },
  {
   "cell_type": "code",
   "execution_count": 49,
   "metadata": {},
   "outputs": [
    {
     "name": "stdout",
     "output_type": "stream",
     "text": [
      "f1 score: 0.9458713832171071\n",
      "Confusion Matrix is:\n",
      " [[183  17]\n",
      " [  5 202]]\n",
      "CSV file is created successfully\n"
     ]
    }
   ],
   "source": [
    "# Function for Gradient Boosting Classification with PCA features\n",
    "Model = GradientBoostingClassifier()\n",
    "\n",
    "# Calling the function\n",
    "classification_model(X_train_pca, X_test_pca, df_test_pca, Model, Model_string='GradientBoostingClassifier', col='PCA_features', bst_prms = 'NO')\n",
    "\n",
    "# Assign f1 score to a variable for the model comparison\n",
    "# GBC3 = score"
   ]
  },
  {
   "cell_type": "code",
   "execution_count": null,
   "metadata": {},
   "outputs": [],
   "source": [
    "Model.fit(X_train_pca, Y_train)\n",
    "Y_test_pred = Model.predict(X_test_pca)\n",
    "df_test_pred = Model.predict(df_test_scale)\n",
    "df_test_pred_prob = Model.predict_proba(df_test_scale)\n",
    "print('score value: ', Model.score(X_test_pca, Y_test))\n",
    "print('f1_score value: ', f1_score(Y_test, Y_test_pred, average = 'weighted'))\n",
    "# print(\"Tuned Model Parameters: {}\".format(Model.best_params_))"
   ]
  },
  {
   "cell_type": "markdown",
   "metadata": {},
   "source": [
    "##### 4.8.4 - Gradient Boosting with Hyperparameter Tuning (PCA features)"
   ]
  },
  {
   "cell_type": "code",
   "execution_count": 50,
   "metadata": {
    "scrolled": true
   },
   "outputs": [
    {
     "name": "stdout",
     "output_type": "stream",
     "text": [
      "f1 score: 0.9655407517254402\n",
      "Confusion Matrix is:\n",
      " [[186  14]\n",
      " [  0 207]]\n",
      "CSV file is created successfully\n"
     ]
    }
   ],
   "source": [
    "# Gradient Boosting Parameters\n",
    "gb_params ={\n",
    "    'n_estimators': 1500,\n",
    "    'max_features': 0.9,\n",
    "    'learning_rate' : 0.25,\n",
    "    'max_depth': 2,\n",
    "    'min_samples_leaf': 3,\n",
    "    'subsample': 1,\n",
    "    'max_features' : 'sqrt',\n",
    "    'random_state' : 0\n",
    "}\n",
    "\n",
    "# Instantiate Gradient Boosting classifier: gb\n",
    "Model = GradientBoostingClassifier(**gb_params)\n",
    "\n",
    "# Calling the function\n",
    "classification_model(X_train_pca, X_test_pca, df_test_pca, Model, Model_string='GradientBoostingClassifier', col='tuned_PCA_features', bst_prms = 'NO')\n",
    "\n",
    "# Assign f1 score to a variable for the model comparison\n",
    "# GBC4 = score"
   ]
  },
  {
   "cell_type": "code",
   "execution_count": null,
   "metadata": {},
   "outputs": [],
   "source": [
    "compare_scores"
   ]
  },
  {
   "cell_type": "markdown",
   "metadata": {},
   "source": [
    "### 4.9 - ADA Boost Classification\n",
    "==================================================================================================================="
   ]
  },
  {
   "cell_type": "markdown",
   "metadata": {},
   "source": [
    "##### 4.9.1 - ADA Boost Classification with all features"
   ]
  },
  {
   "cell_type": "code",
   "execution_count": 51,
   "metadata": {},
   "outputs": [
    {
     "name": "stdout",
     "output_type": "stream",
     "text": [
      "f1 score: 0.7763074718567342\n",
      "Confusion Matrix is:\n",
      " [[161  39]\n",
      " [ 52 155]]\n",
      "CSV file is created successfully\n"
     ]
    }
   ],
   "source": [
    "# Function for ADA Boost Classifier with all features\n",
    "Model = AdaBoostClassifier()\n",
    "\n",
    "# Calling the function\n",
    "classification_model(X_train_scale, X_test_scale, df_test_scale, Model, Model_string='AdaBoostClassifier', col='all_features', bst_prms = 'NO')\n",
    "\n",
    "# Assign f1 score to a variable for the model comparison\n",
    "# ADABC1 = score"
   ]
  },
  {
   "cell_type": "markdown",
   "metadata": {},
   "source": [
    "##### 4.9.2 - ADA Boost Classification with Hyperparameter Tuning (all features)"
   ]
  },
  {
   "cell_type": "code",
   "execution_count": 52,
   "metadata": {
    "scrolled": true
   },
   "outputs": [
    {
     "name": "stdout",
     "output_type": "stream",
     "text": [
      "f1 score: 0.791003440337619\n",
      "Confusion Matrix is:\n",
      " [[165  35]\n",
      " [ 50 157]]\n",
      "CSV file is created successfully\n"
     ]
    }
   ],
   "source": [
    "# Instantiate ADA Boosting classifier: abc\n",
    "Model = AdaBoostClassifier(n_estimators= 150, learning_rate = 0.2, random_state = 0)\n",
    "\n",
    "# Calling the function\n",
    "classification_model(X_train_scale, X_test_scale, df_test_scale, Model, Model_string='AdaBoostClassifier', col='tuned_all_features', bst_prms = 'NO')\n",
    "\n",
    "# Assign f1 score to a variable for the model comparison\n",
    "# ADABC2 = score"
   ]
  },
  {
   "cell_type": "markdown",
   "metadata": {},
   "source": [
    "##### 4.9.3 - ADA Boost Classification with PCA features"
   ]
  },
  {
   "cell_type": "code",
   "execution_count": 53,
   "metadata": {},
   "outputs": [
    {
     "name": "stdout",
     "output_type": "stream",
     "text": [
      "f1 score: 0.8280202123847972\n",
      "Confusion Matrix is:\n",
      " [[166  34]\n",
      " [ 36 171]]\n",
      "CSV file is created successfully\n"
     ]
    }
   ],
   "source": [
    "# Function for ADA Boost Classification with PCA features\n",
    "Model = AdaBoostClassifier()\n",
    "\n",
    "# Calling the function\n",
    "classification_model(X_train_pca, X_test_pca, df_test_pca, Model, Model_string='AdaBoostClassifier', col='PCA_features', bst_prms = 'NO')\n",
    "\n",
    "# Assign f1 score to a variable for the model comparison\n",
    "# ADABC3 = score"
   ]
  },
  {
   "cell_type": "markdown",
   "metadata": {},
   "source": [
    "##### 4.9.4 - ADA Boost with Hyperparameter Tuning (PCA features)"
   ]
  },
  {
   "cell_type": "code",
   "execution_count": 54,
   "metadata": {},
   "outputs": [
    {
     "name": "stdout",
     "output_type": "stream",
     "text": [
      "f1 score: 0.8520971526064905\n",
      "Confusion Matrix is:\n",
      " [[160  40]\n",
      " [ 20 187]]\n",
      "CSV file is created successfully\n"
     ]
    }
   ],
   "source": [
    "# Instantiate ADA Boosting classifier: abc\n",
    "Model = AdaBoostClassifier(n_estimators= 250, learning_rate = 0.25, random_state = 0)\n",
    "\n",
    "# Calling the function\n",
    "classification_model(X_train_pca, X_test_pca, df_test_pca, Model, Model_string='AdaBoostClassifier', col='tuned_PCA_features', bst_prms = 'NO')\n",
    "\n",
    "# Assign f1 score to a variable for the model comparison\n",
    "# ADABC4 = score"
   ]
  },
  {
   "cell_type": "code",
   "execution_count": 59,
   "metadata": {},
   "outputs": [],
   "source": [
    "compare_scores1 =  compare_scores\n",
    "for col in compare_scores.columns:\n",
    "    for row in compare_scores.index:\n",
    "        compare_scores1[col][row] = compare_scores[col][row]\n",
    "compare_scores =  compare_scores1\n"
   ]
  },
  {
   "cell_type": "code",
   "execution_count": 61,
   "metadata": {},
   "outputs": [
    {
     "data": {
      "text/html": [
       "<div>\n",
       "<style scoped>\n",
       "    .dataframe tbody tr th:only-of-type {\n",
       "        vertical-align: middle;\n",
       "    }\n",
       "\n",
       "    .dataframe tbody tr th {\n",
       "        vertical-align: top;\n",
       "    }\n",
       "\n",
       "    .dataframe thead th {\n",
       "        text-align: right;\n",
       "    }\n",
       "</style>\n",
       "<table border=\"1\" class=\"dataframe\">\n",
       "  <thead>\n",
       "    <tr style=\"text-align: right;\">\n",
       "      <th></th>\n",
       "      <th>all_features</th>\n",
       "      <th>tuned_all_features</th>\n",
       "      <th>PCA_features</th>\n",
       "      <th>tuned_PCA_features</th>\n",
       "    </tr>\n",
       "  </thead>\n",
       "  <tbody>\n",
       "    <tr>\n",
       "      <th>LogisticRegression</th>\n",
       "      <td>0.742030</td>\n",
       "      <td>0.742030</td>\n",
       "      <td>0.742030</td>\n",
       "      <td>0.742030</td>\n",
       "    </tr>\n",
       "    <tr>\n",
       "      <th>DecisionTreeClassifier</th>\n",
       "      <td>0.910712</td>\n",
       "      <td>0.918267</td>\n",
       "      <td>0.915752</td>\n",
       "      <td>0.935785</td>\n",
       "    </tr>\n",
       "    <tr>\n",
       "      <th>RandomForestClassifier</th>\n",
       "      <td>0.000000</td>\n",
       "      <td>0.968053</td>\n",
       "      <td>0.970513</td>\n",
       "      <td>0.000000</td>\n",
       "    </tr>\n",
       "    <tr>\n",
       "      <th>KNeighborsClassifier</th>\n",
       "      <td>0.000000</td>\n",
       "      <td>0.940766</td>\n",
       "      <td>0.801582</td>\n",
       "      <td>0.000000</td>\n",
       "    </tr>\n",
       "    <tr>\n",
       "      <th>SVM</th>\n",
       "      <td>0.000000</td>\n",
       "      <td>0.754255</td>\n",
       "      <td>0.886540</td>\n",
       "      <td>0.000000</td>\n",
       "    </tr>\n",
       "    <tr>\n",
       "      <th>KernelSVM</th>\n",
       "      <td>0.000000</td>\n",
       "      <td>0.987716</td>\n",
       "      <td>0.886540</td>\n",
       "      <td>0.000000</td>\n",
       "    </tr>\n",
       "    <tr>\n",
       "      <th>GaussianNB</th>\n",
       "      <td>0.000000</td>\n",
       "      <td>0.000000</td>\n",
       "      <td>0.723381</td>\n",
       "      <td>0.000000</td>\n",
       "    </tr>\n",
       "    <tr>\n",
       "      <th>GradientBoostingClassifier</th>\n",
       "      <td>0.000000</td>\n",
       "      <td>0.940927</td>\n",
       "      <td>0.945871</td>\n",
       "      <td>0.000000</td>\n",
       "    </tr>\n",
       "    <tr>\n",
       "      <th>AdaBoostClassifier</th>\n",
       "      <td>0.000000</td>\n",
       "      <td>0.791003</td>\n",
       "      <td>0.828020</td>\n",
       "      <td>0.000000</td>\n",
       "    </tr>\n",
       "  </tbody>\n",
       "</table>\n",
       "</div>"
      ],
      "text/plain": [
       "                            all_features  tuned_all_features  PCA_features  \\\n",
       "LogisticRegression              0.742030            0.742030      0.742030   \n",
       "DecisionTreeClassifier          0.910712            0.918267      0.915752   \n",
       "RandomForestClassifier          0.000000            0.968053      0.970513   \n",
       "KNeighborsClassifier            0.000000            0.940766      0.801582   \n",
       "SVM                             0.000000            0.754255      0.886540   \n",
       "KernelSVM                       0.000000            0.987716      0.886540   \n",
       "GaussianNB                      0.000000            0.000000      0.723381   \n",
       "GradientBoostingClassifier      0.000000            0.940927      0.945871   \n",
       "AdaBoostClassifier              0.000000            0.791003      0.828020   \n",
       "\n",
       "                            tuned_PCA_features  \n",
       "LogisticRegression                    0.742030  \n",
       "DecisionTreeClassifier                0.935785  \n",
       "RandomForestClassifier                0.000000  \n",
       "KNeighborsClassifier                  0.000000  \n",
       "SVM                                   0.000000  \n",
       "KernelSVM                             0.000000  \n",
       "GaussianNB                            0.000000  \n",
       "GradientBoostingClassifier            0.000000  \n",
       "AdaBoostClassifier                    0.000000  "
      ]
     },
     "execution_count": 61,
     "metadata": {},
     "output_type": "execute_result"
    }
   ],
   "source": [
    "compare_scores1"
   ]
  },
  {
   "cell_type": "code",
   "execution_count": null,
   "metadata": {
    "scrolled": true
   },
   "outputs": [],
   "source": [
    "compare_scores.to_csv('compare_scores.csv')"
   ]
  },
  {
   "cell_type": "markdown",
   "metadata": {},
   "source": [
    "### 5. Model Comparison\n",
    "==================================================================================================================="
   ]
  },
  {
   "cell_type": "code",
   "execution_count": null,
   "metadata": {},
   "outputs": [],
   "source": [
    "# Dictionary of model f1 scores to compare\n",
    "results={'Logistic Regression': [LR1, LR2, LR3, LR4], \n",
    "         'Decision Tree': [DTC1, DTC2, DTC3, DTC4], \n",
    "         'Random Forest': [RFC1, RFC2, RFC3, RFC4], \n",
    "         'K-NN': [KNC1, KNC2, KNC3, KNC4], \n",
    "         'SVM': [SVC1, SVC2, SVC3, SVC4], \n",
    "         'Kernel SVM': [KSVC1, KSVC2, KSVC3, KSVC4],\n",
    "         'Naive Bayes': [NBC1, NBC1, NBC2, NBC2], \n",
    "         'Gradient Boosting': [GBC1, GBC2, GBC3, GBC4], \n",
    "         'ADA Boosting': [ADABC1, ADABC2, ADABC3, ADABC4]}"
   ]
  },
  {
   "cell_type": "code",
   "execution_count": null,
   "metadata": {},
   "outputs": [],
   "source": [
    "# Creating model comparison dataframe\n",
    "comparison = pd.DataFrame.from_dict(results, orient='index')\n",
    "comparison.columns = ['all_features', 'tuned_all_features', 'PCA_features', 'tuned_PCA_features']"
   ]
  },
  {
   "cell_type": "code",
   "execution_count": null,
   "metadata": {},
   "outputs": [],
   "source": [
    "comparison"
   ]
  },
  {
   "cell_type": "code",
   "execution_count": null,
   "metadata": {},
   "outputs": [],
   "source": [
    "comparison.index"
   ]
  },
  {
   "cell_type": "code",
   "execution_count": null,
   "metadata": {},
   "outputs": [],
   "source": [
    "# Computing the total improvement on the f1 score\n",
    "\n",
    "list1 = []\n",
    "for i in comparison.index:\n",
    "    max_val = max(comparison.all_features[i], comparison.tuned_all_features[i], comparison.PCA_features[i], comparison.tuned_PCA_features[i])\n",
    "    e = (max_val / comparison.all_features[i]) - 1\n",
    "    list1.append(float(\"%.4f\" % e))\n",
    "\n",
    "comparison['Total Improvement(%)'] = list1"
   ]
  },
  {
   "cell_type": "code",
   "execution_count": null,
   "metadata": {},
   "outputs": [],
   "source": [
    "# Models Compare List\n",
    "comparison"
   ]
  },
  {
   "cell_type": "code",
   "execution_count": null,
   "metadata": {},
   "outputs": [],
   "source": [
    "for col in comparison.columns:\n",
    "    print('Optimum value in '+col+' is :' + comparison[comparison['all_features']==comparison['all_features'].max()].index[0])"
   ]
  },
  {
   "cell_type": "markdown",
   "metadata": {},
   "source": [
    "##### Result:\n",
    "Best method which we are getting best accurate score is '**Random Forest**'"
   ]
  },
  {
   "cell_type": "code",
   "execution_count": null,
   "metadata": {},
   "outputs": [],
   "source": [
    "# Comparison of ML Classifiers with Effects of Feature Engineering\n",
    "import matplotlib.patches as mpatches\n",
    "\n",
    "r = [0,1,2,3,4,5,6,7,8]\n",
    "\n",
    "# From raw value to percentage\n",
    "A = comparison.iloc[:,0]\n",
    "B = comparison.iloc[:,1]\n",
    "C = comparison.iloc[:,2]\n",
    "D = comparison.iloc[:,3]\n",
    "\n",
    "# plot\n",
    "barWidth = 0.85\n",
    "names = ('Logistic Regression', 'Decision Tree', 'Random Forest', 'K-NN', 'SVM', \n",
    "         'Kernel SVM', 'Naive Bayes', 'Gradient Boosting', 'ADA Boosting')\n",
    "fig = plt.figure(figsize=(15,8))\n",
    "\n",
    "# Create green Bars\n",
    "plt.plot(r, A, color='green')\n",
    "\n",
    "# Create orange Bars\n",
    "plt.plot(r, B, color='red')\n",
    "\n",
    "# Create blue Bars\n",
    "plt.plot(r, C, color='blue')\n",
    "\n",
    "# Create purple Bars\n",
    "plt.plot(r, D, color='purple')\n",
    " \n",
    "# Custom x axis\n",
    "plt.xticks(r, names, fontsize='large')\n",
    "plt.yticks(np.arange(0.67,0.78,0.1))\n",
    "plt.xlabel(\"ML Classifiers\", fontsize='x-large')\n",
    "plt.ylabel(\"Future Engeneering\", fontsize='x-large')\n",
    "plt.title(\"Comparison of ML Classifiers with Effects of Future Engeneering\", fontsize='x-large')\n",
    "\n",
    "green = mpatches.Patch(color='green', label='all_features')\n",
    "orange = mpatches.Patch(color='red', label='tuned_all_features')\n",
    "blue = mpatches.Patch(color='blue', label='PCA_features')\n",
    "purple = mpatches.Patch(color='purple', label='tuned_PCA_features')\n",
    "plt.legend(handles=[green, orange, blue, purple], loc=4)\n",
    "\n",
    "# Show graphic\n",
    "plt.show()"
   ]
  },
  {
   "cell_type": "markdown",
   "metadata": {},
   "source": [
    "##### Handling Target Class Imbalance"
   ]
  },
  {
   "cell_type": "code",
   "execution_count": null,
   "metadata": {},
   "outputs": [],
   "source": [
    "# Specify the hyperparameter space\n",
    "CS = [0.001, 0.01, 0.1, 1, 10]\n",
    "gammas = [0.001, 0.01, 0.1, 1]\n",
    "param_grid = {'C': CS, 'gamma' : gammas}\n",
    "\n",
    "# Instantiate Support Vector Machine classifier: svm\n",
    "Model = GridSearchCV(SVC(kernel='linear'), param_grid, cv=5, scoring = 'f1_weighted')\n",
    "\n",
    "'''# Calling the function\n",
    "score = classification_model(X_train_pca, X_test_pca, Model, RG='NO')\n",
    "\n",
    "# Assign f1 score to a variable for the model comparison\n",
    "ADABC4 = score'''\n",
    "\n",
    "\n",
    "# Fit to the training set\n",
    "Model.fit(X_train_pca, Y_train)\n",
    "\n",
    "# Predict the labels of the test set: y_pred\n",
    "Y_pred = Model.predict(X_test)\n",
    "\n",
    "# Compute and print metrics\n",
    "print(\"f1 score: {}\".format(Model.score(X_test, Y_test)))\n",
    "print(\"Tuned Model Parameters: {}\".format(Model.best_params_))"
   ]
  },
  {
   "cell_type": "markdown",
   "metadata": {},
   "source": [
    "### 6. Conclusion\n",
    "==================================================================================================================="
   ]
  },
  {
   "cell_type": "markdown",
   "metadata": {},
   "source": [
    "##### 6.1 - Most Important Features"
   ]
  },
  {
   "cell_type": "code",
   "execution_count": null,
   "metadata": {},
   "outputs": [],
   "source": [
    "# Coefficients of feature importance (values for dictionary)\n",
    "svr = SVC(kernel='linear', C = 0.1, gamma = 0.001)\n",
    "clf = svr.fit(X_train, Y_train)\n",
    "clfc = clf.coef_"
   ]
  },
  {
   "cell_type": "code",
   "execution_count": null,
   "metadata": {},
   "outputs": [],
   "source": [
    "clfc"
   ]
  },
  {
   "cell_type": "code",
   "execution_count": null,
   "metadata": {},
   "outputs": [],
   "source": [
    "import functools\n",
    "value = functools.reduce(lambda x, y: x+y, clfc)\n",
    "values = [x for x in value]\n",
    "values"
   ]
  },
  {
   "cell_type": "code",
   "execution_count": null,
   "metadata": {},
   "outputs": [],
   "source": [
    "df4 = df3.drop('Attrition', axis =1)"
   ]
  },
  {
   "cell_type": "code",
   "execution_count": null,
   "metadata": {
    "scrolled": true
   },
   "outputs": [],
   "source": [
    "# Dictionary for feature importance - keys and values\n",
    "idx = X_train.columns\n",
    "keys = [str(x) for x in idx.tolist()]\n",
    "pairs = {keys[i]: values[i] for i in range(len(keys))}\n",
    "pairs"
   ]
  },
  {
   "cell_type": "code",
   "execution_count": null,
   "metadata": {},
   "outputs": [],
   "source": [
    "# Plotting feature importance for SVM model\n",
    "names = list(pairs.keys())\n",
    "values = list(pairs.values())\n",
    "\n",
    "plt.figure(figsize=(18,14))\n",
    "plt.barh(range(len(pairs)), values, tick_label = names, color = 'red')\n",
    "plt.title('Feature Importance in Model', fontsize = 25)\n",
    "plt.show()"
   ]
  },
  {
   "cell_type": "markdown",
   "metadata": {},
   "source": [
    "##### Applying best model \"Random Forest\""
   ]
  },
  {
   "cell_type": "code",
   "execution_count": null,
   "metadata": {},
   "outputs": [],
   "source": [
    "df_test = pd.read_csv('test.csv')"
   ]
  },
  {
   "cell_type": "code",
   "execution_count": null,
   "metadata": {},
   "outputs": [],
   "source": [
    "df_test.drop(['Id', 'Behaviour', 'EmployeeNumber', 'PerformanceRating'], axis=1, inplace=True)"
   ]
  },
  {
   "cell_type": "code",
   "execution_count": null,
   "metadata": {},
   "outputs": [],
   "source": [
    "# Applying Lable encoding\n",
    "# ===========================\n",
    "\n",
    "from sklearn.preprocessing import LabelEncoder\n",
    "LE = LabelEncoder()\n",
    "\n",
    "# Transforming non-numeric columns into numerical columns in Training Data Frame\n",
    "for column in df_test.columns:\n",
    "    if df_test[column].dtype == object:\n",
    "        df_test[column] = LE.fit_transform(df_test[column])\n"
   ]
  },
  {
   "cell_type": "code",
   "execution_count": null,
   "metadata": {},
   "outputs": [],
   "source": [
    "# Applying Feature Scaling\n",
    "# ===========================\n",
    "std_sclr = StandardScaler()\n",
    "X_scale = std_sclr.fit_transform(df_test)\n",
    "X_scale = pd.DataFrame(X_scale, columns=df_test.columns)\n"
   ]
  },
  {
   "cell_type": "code",
   "execution_count": null,
   "metadata": {},
   "outputs": [],
   "source": [
    "# Applying PCA by Extracting 24 features\n",
    "# ==================================\n",
    "from sklearn.decomposition import PCA\n",
    "pca = PCA(n_components = 24)\n",
    "X_test_pca = pd.DataFrame(pca.fit_transform(X_scale))\n",
    "X_test_pca.columns = X_scale.columns"
   ]
  },
  {
   "cell_type": "code",
   "execution_count": null,
   "metadata": {},
   "outputs": [],
   "source": [
    "# APPLYING RANDOM FOREST MODEL\n",
    "# ==================================\n",
    "\n",
    "# Instantiate the classifier: model\n",
    "Model = RandomForestClassifier(random_state=0)\n",
    "\n",
    "# Fitting classifier to the Training set (all features)\n",
    "Model.fit(X_train_pca, Y_train)\n",
    "\n",
    "# Predicting the Test set results\n",
    "Y_test_pca_pred_RFC = Model.predict(X_test_pca)"
   ]
  },
  {
   "cell_type": "code",
   "execution_count": null,
   "metadata": {
    "scrolled": true
   },
   "outputs": [],
   "source": [
    "Y_test_pca_pred_RFC_prob = Model.predict_proba(X_test_pca)[:, 0]"
   ]
  },
  {
   "cell_type": "markdown",
   "metadata": {},
   "source": [
    "##### Defining Data Frame for Sample Submission"
   ]
  },
  {
   "cell_type": "code",
   "execution_count": null,
   "metadata": {},
   "outputs": [],
   "source": [
    "Y_test_pca_pred_RFC_prob"
   ]
  },
  {
   "cell_type": "code",
   "execution_count": null,
   "metadata": {},
   "outputs": [],
   "source": [
    "df_test_set = pd.read_csv('test.csv')"
   ]
  },
  {
   "cell_type": "code",
   "execution_count": null,
   "metadata": {},
   "outputs": [],
   "source": [
    "sample_submission_RFC = df_test_set[['Id']]"
   ]
  },
  {
   "cell_type": "code",
   "execution_count": null,
   "metadata": {},
   "outputs": [],
   "source": [
    "# sample_submission_RFC['Y_test_pca_pred_RFC'] = Y_test_pca_pred_RFC\n",
    "sample_submission_RFC['Attrition'] = Y_test_pca_pred_RFC_prob"
   ]
  },
  {
   "cell_type": "code",
   "execution_count": null,
   "metadata": {
    "scrolled": true
   },
   "outputs": [],
   "source": [
    "sample_submission_RFC"
   ]
  },
  {
   "cell_type": "code",
   "execution_count": null,
   "metadata": {},
   "outputs": [],
   "source": [
    "sample_submission_RFC.to_csv('sample_submission_RFC_02.csv', index=False)"
   ]
  }
 ],
 "metadata": {
  "kernelspec": {
   "display_name": "Python 3",
   "language": "python",
   "name": "python3"
  },
  "language_info": {
   "codemirror_mode": {
    "name": "ipython",
    "version": 3
   },
   "file_extension": ".py",
   "mimetype": "text/x-python",
   "name": "python",
   "nbconvert_exporter": "python",
   "pygments_lexer": "ipython3",
   "version": "3.7.1"
  }
 },
 "nbformat": 4,
 "nbformat_minor": 4
}
